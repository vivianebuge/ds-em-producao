{
 "cells": [
  {
   "cell_type": "markdown",
   "id": "e56fae53",
   "metadata": {
    "heading_collapsed": true
   },
   "source": [
    "# 0.0. IMPORTS"
   ]
  },
  {
   "cell_type": "code",
   "execution_count": 1,
   "id": "aa18c79d",
   "metadata": {
    "ExecuteTime": {
     "end_time": "2022-03-03T20:32:44.516159Z",
     "start_time": "2022-03-03T20:32:41.915566Z"
    },
    "hidden": true,
    "scrolled": true
   },
   "outputs": [],
   "source": [
    "import pandas as pd\n",
    "import numpy as np\n",
    "import inflection\n",
    "import math\n",
    "import seaborn as sns\n",
    "import matplotlib.pyplot as plt\n",
    "from IPython.core.display import HTML\n",
    "from IPython.display import Image\n",
    "import datetime"
   ]
  },
  {
   "cell_type": "markdown",
   "id": "2efa71c7",
   "metadata": {
    "hidden": true
   },
   "source": [
    "## 0.1. Helper Functions"
   ]
  },
  {
   "cell_type": "markdown",
   "id": "6be412f1",
   "metadata": {
    "hidden": true
   },
   "source": [
    "## 0.2. Loading data"
   ]
  },
  {
   "cell_type": "code",
   "execution_count": 2,
   "id": "0dcf9c0f",
   "metadata": {
    "ExecuteTime": {
     "end_time": "2022-03-03T20:32:45.320529Z",
     "start_time": "2022-03-03T20:32:44.518154Z"
    },
    "hidden": true
   },
   "outputs": [],
   "source": [
    "df_sales_raw = pd.read_csv('data/train.csv', low_memory=False)\n",
    "df_store_raw = pd.read_csv('data/store.csv', low_memory=False)"
   ]
  },
  {
   "cell_type": "code",
   "execution_count": 3,
   "id": "2421c064",
   "metadata": {
    "ExecuteTime": {
     "end_time": "2022-03-03T20:32:45.668274Z",
     "start_time": "2022-03-03T20:32:45.322525Z"
    },
    "hidden": true
   },
   "outputs": [
    {
     "data": {
      "text/html": [
       "<div>\n",
       "<style scoped>\n",
       "    .dataframe tbody tr th:only-of-type {\n",
       "        vertical-align: middle;\n",
       "    }\n",
       "\n",
       "    .dataframe tbody tr th {\n",
       "        vertical-align: top;\n",
       "    }\n",
       "\n",
       "    .dataframe thead th {\n",
       "        text-align: right;\n",
       "    }\n",
       "</style>\n",
       "<table border=\"1\" class=\"dataframe\">\n",
       "  <thead>\n",
       "    <tr style=\"text-align: right;\">\n",
       "      <th></th>\n",
       "      <th>Store</th>\n",
       "      <th>DayOfWeek</th>\n",
       "      <th>Date</th>\n",
       "      <th>Sales</th>\n",
       "      <th>Customers</th>\n",
       "      <th>Open</th>\n",
       "      <th>Promo</th>\n",
       "      <th>StateHoliday</th>\n",
       "      <th>SchoolHoliday</th>\n",
       "      <th>StoreType</th>\n",
       "      <th>Assortment</th>\n",
       "      <th>CompetitionDistance</th>\n",
       "      <th>CompetitionOpenSinceMonth</th>\n",
       "      <th>CompetitionOpenSinceYear</th>\n",
       "      <th>Promo2</th>\n",
       "      <th>Promo2SinceWeek</th>\n",
       "      <th>Promo2SinceYear</th>\n",
       "      <th>PromoInterval</th>\n",
       "    </tr>\n",
       "  </thead>\n",
       "  <tbody>\n",
       "    <tr>\n",
       "      <th>769762</th>\n",
       "      <td>83</td>\n",
       "      <td>6</td>\n",
       "      <td>2013-08-10</td>\n",
       "      <td>2667</td>\n",
       "      <td>260</td>\n",
       "      <td>1</td>\n",
       "      <td>0</td>\n",
       "      <td>0</td>\n",
       "      <td>0</td>\n",
       "      <td>a</td>\n",
       "      <td>a</td>\n",
       "      <td>2710.0</td>\n",
       "      <td>NaN</td>\n",
       "      <td>NaN</td>\n",
       "      <td>0</td>\n",
       "      <td>NaN</td>\n",
       "      <td>NaN</td>\n",
       "      <td>NaN</td>\n",
       "    </tr>\n",
       "  </tbody>\n",
       "</table>\n",
       "</div>"
      ],
      "text/plain": [
       "        Store  DayOfWeek        Date  Sales  Customers  Open  Promo  \\\n",
       "769762     83          6  2013-08-10   2667        260     1      0   \n",
       "\n",
       "       StateHoliday  SchoolHoliday StoreType Assortment  CompetitionDistance  \\\n",
       "769762            0              0         a          a               2710.0   \n",
       "\n",
       "        CompetitionOpenSinceMonth  CompetitionOpenSinceYear  Promo2  \\\n",
       "769762                        NaN                       NaN       0   \n",
       "\n",
       "        Promo2SinceWeek  Promo2SinceYear PromoInterval  \n",
       "769762              NaN              NaN           NaN  "
      ]
     },
     "execution_count": 3,
     "metadata": {},
     "output_type": "execute_result"
    }
   ],
   "source": [
    "#merge:\n",
    "df_raw = pd.merge (df_sales_raw, df_store_raw, how='left', on= 'Store')\n",
    "df_raw.sample()"
   ]
  },
  {
   "cell_type": "markdown",
   "id": "dafd1ced",
   "metadata": {
    "heading_collapsed": true
   },
   "source": [
    "# 1.0. DESCRIÇÃO DE DADOS"
   ]
  },
  {
   "cell_type": "markdown",
   "id": "090f5cd6",
   "metadata": {
    "hidden": true
   },
   "source": [
    "## 1.1. Rename Columns"
   ]
  },
  {
   "cell_type": "code",
   "execution_count": 4,
   "id": "e8aa11ba",
   "metadata": {
    "ExecuteTime": {
     "end_time": "2022-03-03T20:32:45.716168Z",
     "start_time": "2022-03-03T20:32:45.672262Z"
    },
    "hidden": true
   },
   "outputs": [],
   "source": [
    "df1 = df_raw.copy()"
   ]
  },
  {
   "cell_type": "code",
   "execution_count": 5,
   "id": "e0ba36a2",
   "metadata": {
    "ExecuteTime": {
     "end_time": "2022-03-03T20:32:45.748101Z",
     "start_time": "2022-03-03T20:32:45.722174Z"
    },
    "hidden": true
   },
   "outputs": [],
   "source": [
    "cols_old = ['Store', 'DayOfWeek', 'Date', 'Sales', 'Customers', 'Open', 'Promo',\n",
    "       'StateHoliday', 'SchoolHoliday', 'StoreType', 'Assortment',\n",
    "       'CompetitionDistance', 'CompetitionOpenSinceMonth',\n",
    "       'CompetitionOpenSinceYear', 'Promo2', 'Promo2SinceWeek',\n",
    "       'Promo2SinceYear', 'PromoInterval']\n",
    "snakecase = lambda x: inflection.underscore(x)\n",
    "cols_new = list(map(snakecase, cols_old))\n",
    "\n",
    "#rename\n",
    "df1.columns = cols_new"
   ]
  },
  {
   "cell_type": "markdown",
   "id": "b6cadb3a",
   "metadata": {
    "hidden": true
   },
   "source": [
    "## 1.2. Data Dimension"
   ]
  },
  {
   "cell_type": "code",
   "execution_count": 6,
   "id": "f7454f3e",
   "metadata": {
    "ExecuteTime": {
     "end_time": "2022-03-03T20:32:45.764059Z",
     "start_time": "2022-03-03T20:32:45.751094Z"
    },
    "hidden": true
   },
   "outputs": [
    {
     "name": "stdout",
     "output_type": "stream",
     "text": [
      "Number of Rows: 1017209\n",
      "Number of Collumns: 18\n"
     ]
    }
   ],
   "source": [
    "print(\"Number of Rows: {}\".format(df1.shape[0]))\n",
    "print(\"Number of Collumns: {}\".format(df1.shape[1]))"
   ]
  },
  {
   "cell_type": "markdown",
   "id": "3ed05b2a",
   "metadata": {
    "hidden": true
   },
   "source": [
    "## 1.3. Data Types"
   ]
  },
  {
   "cell_type": "code",
   "execution_count": 7,
   "id": "5939f8b2",
   "metadata": {
    "ExecuteTime": {
     "end_time": "2022-03-03T20:32:45.793979Z",
     "start_time": "2022-03-03T20:32:45.767052Z"
    },
    "hidden": true
   },
   "outputs": [
    {
     "data": {
      "text/plain": [
       "store                             int64\n",
       "day_of_week                       int64\n",
       "date                             object\n",
       "sales                             int64\n",
       "customers                         int64\n",
       "open                              int64\n",
       "promo                             int64\n",
       "state_holiday                    object\n",
       "school_holiday                    int64\n",
       "store_type                       object\n",
       "assortment                       object\n",
       "competition_distance            float64\n",
       "competition_open_since_month    float64\n",
       "competition_open_since_year     float64\n",
       "promo2                            int64\n",
       "promo2_since_week               float64\n",
       "promo2_since_year               float64\n",
       "promo_interval                   object\n",
       "dtype: object"
      ]
     },
     "execution_count": 7,
     "metadata": {},
     "output_type": "execute_result"
    }
   ],
   "source": [
    "df1.dtypes"
   ]
  },
  {
   "cell_type": "code",
   "execution_count": 8,
   "id": "5ee194a1",
   "metadata": {
    "ExecuteTime": {
     "end_time": "2022-03-03T20:32:45.937595Z",
     "start_time": "2022-03-03T20:32:45.795974Z"
    },
    "hidden": true
   },
   "outputs": [
    {
     "data": {
      "text/plain": [
       "store                                    int64\n",
       "day_of_week                              int64\n",
       "date                            datetime64[ns]\n",
       "sales                                    int64\n",
       "customers                                int64\n",
       "open                                     int64\n",
       "promo                                    int64\n",
       "state_holiday                           object\n",
       "school_holiday                           int64\n",
       "store_type                              object\n",
       "assortment                              object\n",
       "competition_distance                   float64\n",
       "competition_open_since_month           float64\n",
       "competition_open_since_year            float64\n",
       "promo2                                   int64\n",
       "promo2_since_week                      float64\n",
       "promo2_since_year                      float64\n",
       "promo_interval                          object\n",
       "dtype: object"
      ]
     },
     "execution_count": 8,
     "metadata": {},
     "output_type": "execute_result"
    }
   ],
   "source": [
    "df1['date'] = pd.to_datetime(df1['date'])\n",
    "df1.dtypes"
   ]
  },
  {
   "cell_type": "markdown",
   "id": "68607a18",
   "metadata": {
    "hidden": true
   },
   "source": [
    "## 1.4. Check NA"
   ]
  },
  {
   "cell_type": "code",
   "execution_count": 9,
   "id": "a3d29a11",
   "metadata": {
    "ExecuteTime": {
     "end_time": "2022-03-03T20:32:46.562228Z",
     "start_time": "2022-03-03T20:32:45.940587Z"
    },
    "hidden": true,
    "scrolled": true
   },
   "outputs": [
    {
     "data": {
      "text/plain": [
       "store                                0\n",
       "day_of_week                          0\n",
       "date                                 0\n",
       "sales                                0\n",
       "customers                            0\n",
       "open                                 0\n",
       "promo                                0\n",
       "state_holiday                        0\n",
       "school_holiday                       0\n",
       "store_type                           0\n",
       "assortment                           0\n",
       "competition_distance              2642\n",
       "competition_open_since_month    323348\n",
       "competition_open_since_year     323348\n",
       "promo2                               0\n",
       "promo2_since_week               508031\n",
       "promo2_since_year               508031\n",
       "promo_interval                  508031\n",
       "dtype: int64"
      ]
     },
     "execution_count": 9,
     "metadata": {},
     "output_type": "execute_result"
    }
   ],
   "source": [
    "df1.isna().sum()"
   ]
  },
  {
   "cell_type": "markdown",
   "id": "d0bd64cf",
   "metadata": {
    "hidden": true
   },
   "source": [
    "## 1.5 Fillout NA"
   ]
  },
  {
   "cell_type": "code",
   "execution_count": 10,
   "id": "77695a6a",
   "metadata": {
    "ExecuteTime": {
     "end_time": "2022-03-03T20:33:51.601091Z",
     "start_time": "2022-03-03T20:32:46.567213Z"
    },
    "hidden": true
   },
   "outputs": [],
   "source": [
    "#competition_distance\n",
    "df1['competition_distance'] = df1['competition_distance'].apply(lambda x: 200000.0 if math.isnan(x) else x)\n",
    "\n",
    "#competition_open_since_month\n",
    "df1['competition_open_since_month'] = df1.apply(lambda x: x['date'].month if math.isnan(x['competition_open_since_month']) else x['competition_open_since_month'], axis=1)\n",
    "\n",
    "#competition_open_since_year     \n",
    "df1['competition_open_since_year'] = df1.apply(lambda x: x['date'].year if math.isnan(x['competition_open_since_year']) else x['competition_open_since_year'], axis=1)\n",
    "\n",
    "#promo2_since_week\n",
    "df1['promo2_since_week'] = df1.apply(lambda x: x['date'].week if math.isnan(x['promo2_since_week']) else x['promo2_since_week'], axis=1)\n",
    "              \n",
    "#promo2_since_year\n",
    "df1['promo2_since_year'] = df1.apply(lambda x: x['date'].year if math.isnan(x['promo2_since_year']) else x['promo2_since_year'], axis=1)\n",
    "\n"
   ]
  },
  {
   "cell_type": "code",
   "execution_count": 11,
   "id": "74ee9720",
   "metadata": {
    "ExecuteTime": {
     "end_time": "2022-03-03T20:34:07.095569Z",
     "start_time": "2022-03-03T20:33:51.602838Z"
    },
    "hidden": true
   },
   "outputs": [],
   "source": [
    "#promo_interval\n",
    "month_map = {1: 'Jan', 2: 'Fev', 3: 'Mar', 4: 'May', 5: 'Apr', 6: 'Jun', 7: 'Jul', 8: 'Aug', 9: 'Sep', 10: 'Oct', 11: 'Nov', 12: 'Dec'}\n",
    "df1['promo_interval'].fillna(0, inplace=True)\n",
    "df1['month_map'] = df1['date'].dt.month.map(month_map)\n",
    "df1['is_promo'] = df1.apply(lambda x: 0 if x['promo_interval'] == 0 else 1 if x['month_map'] in str(x['promo_interval']).split(',') else 0, axis =1)"
   ]
  },
  {
   "cell_type": "code",
   "execution_count": 12,
   "id": "1c69041b",
   "metadata": {
    "ExecuteTime": {
     "end_time": "2022-03-03T20:34:07.205368Z",
     "start_time": "2022-03-03T20:34:07.097563Z"
    },
    "hidden": true
   },
   "outputs": [
    {
     "data": {
      "text/html": [
       "<div>\n",
       "<style scoped>\n",
       "    .dataframe tbody tr th:only-of-type {\n",
       "        vertical-align: middle;\n",
       "    }\n",
       "\n",
       "    .dataframe tbody tr th {\n",
       "        vertical-align: top;\n",
       "    }\n",
       "\n",
       "    .dataframe thead th {\n",
       "        text-align: right;\n",
       "    }\n",
       "</style>\n",
       "<table border=\"1\" class=\"dataframe\">\n",
       "  <thead>\n",
       "    <tr style=\"text-align: right;\">\n",
       "      <th></th>\n",
       "      <th>650957</th>\n",
       "      <th>210959</th>\n",
       "      <th>655282</th>\n",
       "      <th>736696</th>\n",
       "      <th>492992</th>\n",
       "    </tr>\n",
       "  </thead>\n",
       "  <tbody>\n",
       "    <tr>\n",
       "      <th>store</th>\n",
       "      <td>583</td>\n",
       "      <td>225</td>\n",
       "      <td>448</td>\n",
       "      <td>467</td>\n",
       "      <td>948</td>\n",
       "    </tr>\n",
       "    <tr>\n",
       "      <th>day_of_week</th>\n",
       "      <td>1</td>\n",
       "      <td>5</td>\n",
       "      <td>4</td>\n",
       "      <td>1</td>\n",
       "      <td>3</td>\n",
       "    </tr>\n",
       "    <tr>\n",
       "      <th>date</th>\n",
       "      <td>2013-11-25 00:00:00</td>\n",
       "      <td>2015-01-23 00:00:00</td>\n",
       "      <td>2013-11-21 00:00:00</td>\n",
       "      <td>2013-09-09 00:00:00</td>\n",
       "      <td>2014-04-16 00:00:00</td>\n",
       "    </tr>\n",
       "    <tr>\n",
       "      <th>sales</th>\n",
       "      <td>3762</td>\n",
       "      <td>3849</td>\n",
       "      <td>7721</td>\n",
       "      <td>18636</td>\n",
       "      <td>6575</td>\n",
       "    </tr>\n",
       "    <tr>\n",
       "      <th>customers</th>\n",
       "      <td>447</td>\n",
       "      <td>437</td>\n",
       "      <td>727</td>\n",
       "      <td>1967</td>\n",
       "      <td>1703</td>\n",
       "    </tr>\n",
       "    <tr>\n",
       "      <th>open</th>\n",
       "      <td>1</td>\n",
       "      <td>1</td>\n",
       "      <td>1</td>\n",
       "      <td>1</td>\n",
       "      <td>1</td>\n",
       "    </tr>\n",
       "    <tr>\n",
       "      <th>promo</th>\n",
       "      <td>0</td>\n",
       "      <td>0</td>\n",
       "      <td>1</td>\n",
       "      <td>1</td>\n",
       "      <td>1</td>\n",
       "    </tr>\n",
       "    <tr>\n",
       "      <th>state_holiday</th>\n",
       "      <td>0</td>\n",
       "      <td>0</td>\n",
       "      <td>0</td>\n",
       "      <td>0</td>\n",
       "      <td>0</td>\n",
       "    </tr>\n",
       "    <tr>\n",
       "      <th>school_holiday</th>\n",
       "      <td>0</td>\n",
       "      <td>0</td>\n",
       "      <td>0</td>\n",
       "      <td>0</td>\n",
       "      <td>1</td>\n",
       "    </tr>\n",
       "    <tr>\n",
       "      <th>store_type</th>\n",
       "      <td>a</td>\n",
       "      <td>d</td>\n",
       "      <td>a</td>\n",
       "      <td>a</td>\n",
       "      <td>b</td>\n",
       "    </tr>\n",
       "    <tr>\n",
       "      <th>assortment</th>\n",
       "      <td>a</td>\n",
       "      <td>a</td>\n",
       "      <td>c</td>\n",
       "      <td>c</td>\n",
       "      <td>b</td>\n",
       "    </tr>\n",
       "    <tr>\n",
       "      <th>competition_distance</th>\n",
       "      <td>2640.0</td>\n",
       "      <td>10180.0</td>\n",
       "      <td>3970.0</td>\n",
       "      <td>20390.0</td>\n",
       "      <td>1430.0</td>\n",
       "    </tr>\n",
       "    <tr>\n",
       "      <th>competition_open_since_month</th>\n",
       "      <td>11.0</td>\n",
       "      <td>5.0</td>\n",
       "      <td>9.0</td>\n",
       "      <td>4.0</td>\n",
       "      <td>4.0</td>\n",
       "    </tr>\n",
       "    <tr>\n",
       "      <th>competition_open_since_year</th>\n",
       "      <td>2002.0</td>\n",
       "      <td>2015.0</td>\n",
       "      <td>2009.0</td>\n",
       "      <td>2008.0</td>\n",
       "      <td>2014.0</td>\n",
       "    </tr>\n",
       "    <tr>\n",
       "      <th>promo2</th>\n",
       "      <td>0</td>\n",
       "      <td>0</td>\n",
       "      <td>0</td>\n",
       "      <td>0</td>\n",
       "      <td>0</td>\n",
       "    </tr>\n",
       "    <tr>\n",
       "      <th>promo2_since_week</th>\n",
       "      <td>48.0</td>\n",
       "      <td>4.0</td>\n",
       "      <td>47.0</td>\n",
       "      <td>37.0</td>\n",
       "      <td>16.0</td>\n",
       "    </tr>\n",
       "    <tr>\n",
       "      <th>promo2_since_year</th>\n",
       "      <td>2013.0</td>\n",
       "      <td>2015.0</td>\n",
       "      <td>2013.0</td>\n",
       "      <td>2013.0</td>\n",
       "      <td>2014.0</td>\n",
       "    </tr>\n",
       "    <tr>\n",
       "      <th>promo_interval</th>\n",
       "      <td>0</td>\n",
       "      <td>0</td>\n",
       "      <td>0</td>\n",
       "      <td>0</td>\n",
       "      <td>0</td>\n",
       "    </tr>\n",
       "    <tr>\n",
       "      <th>month_map</th>\n",
       "      <td>Nov</td>\n",
       "      <td>Jan</td>\n",
       "      <td>Nov</td>\n",
       "      <td>Sep</td>\n",
       "      <td>May</td>\n",
       "    </tr>\n",
       "    <tr>\n",
       "      <th>is_promo</th>\n",
       "      <td>0</td>\n",
       "      <td>0</td>\n",
       "      <td>0</td>\n",
       "      <td>0</td>\n",
       "      <td>0</td>\n",
       "    </tr>\n",
       "  </tbody>\n",
       "</table>\n",
       "</div>"
      ],
      "text/plain": [
       "                                           650957               210959  \\\n",
       "store                                         583                  225   \n",
       "day_of_week                                     1                    5   \n",
       "date                          2013-11-25 00:00:00  2015-01-23 00:00:00   \n",
       "sales                                        3762                 3849   \n",
       "customers                                     447                  437   \n",
       "open                                            1                    1   \n",
       "promo                                           0                    0   \n",
       "state_holiday                                   0                    0   \n",
       "school_holiday                                  0                    0   \n",
       "store_type                                      a                    d   \n",
       "assortment                                      a                    a   \n",
       "competition_distance                       2640.0              10180.0   \n",
       "competition_open_since_month                 11.0                  5.0   \n",
       "competition_open_since_year                2002.0               2015.0   \n",
       "promo2                                          0                    0   \n",
       "promo2_since_week                            48.0                  4.0   \n",
       "promo2_since_year                          2013.0               2015.0   \n",
       "promo_interval                                  0                    0   \n",
       "month_map                                     Nov                  Jan   \n",
       "is_promo                                        0                    0   \n",
       "\n",
       "                                           655282               736696  \\\n",
       "store                                         448                  467   \n",
       "day_of_week                                     4                    1   \n",
       "date                          2013-11-21 00:00:00  2013-09-09 00:00:00   \n",
       "sales                                        7721                18636   \n",
       "customers                                     727                 1967   \n",
       "open                                            1                    1   \n",
       "promo                                           1                    1   \n",
       "state_holiday                                   0                    0   \n",
       "school_holiday                                  0                    0   \n",
       "store_type                                      a                    a   \n",
       "assortment                                      c                    c   \n",
       "competition_distance                       3970.0              20390.0   \n",
       "competition_open_since_month                  9.0                  4.0   \n",
       "competition_open_since_year                2009.0               2008.0   \n",
       "promo2                                          0                    0   \n",
       "promo2_since_week                            47.0                 37.0   \n",
       "promo2_since_year                          2013.0               2013.0   \n",
       "promo_interval                                  0                    0   \n",
       "month_map                                     Nov                  Sep   \n",
       "is_promo                                        0                    0   \n",
       "\n",
       "                                           492992  \n",
       "store                                         948  \n",
       "day_of_week                                     3  \n",
       "date                          2014-04-16 00:00:00  \n",
       "sales                                        6575  \n",
       "customers                                    1703  \n",
       "open                                            1  \n",
       "promo                                           1  \n",
       "state_holiday                                   0  \n",
       "school_holiday                                  1  \n",
       "store_type                                      b  \n",
       "assortment                                      b  \n",
       "competition_distance                       1430.0  \n",
       "competition_open_since_month                  4.0  \n",
       "competition_open_since_year                2014.0  \n",
       "promo2                                          0  \n",
       "promo2_since_week                            16.0  \n",
       "promo2_since_year                          2014.0  \n",
       "promo_interval                                  0  \n",
       "month_map                                     May  \n",
       "is_promo                                        0  "
      ]
     },
     "execution_count": 12,
     "metadata": {},
     "output_type": "execute_result"
    }
   ],
   "source": [
    "df1.sample(5).T"
   ]
  },
  {
   "cell_type": "markdown",
   "id": "d048f6a0",
   "metadata": {
    "hidden": true
   },
   "source": [
    "## 1.6 Change types"
   ]
  },
  {
   "cell_type": "code",
   "execution_count": 13,
   "id": "5633ff45",
   "metadata": {
    "ExecuteTime": {
     "end_time": "2022-03-03T20:34:07.220328Z",
     "start_time": "2022-03-03T20:34:07.207363Z"
    },
    "hidden": true
   },
   "outputs": [
    {
     "data": {
      "text/plain": [
       "store                                    int64\n",
       "day_of_week                              int64\n",
       "date                            datetime64[ns]\n",
       "sales                                    int64\n",
       "customers                                int64\n",
       "open                                     int64\n",
       "promo                                    int64\n",
       "state_holiday                           object\n",
       "school_holiday                           int64\n",
       "store_type                              object\n",
       "assortment                              object\n",
       "competition_distance                   float64\n",
       "competition_open_since_month           float64\n",
       "competition_open_since_year            float64\n",
       "promo2                                   int64\n",
       "promo2_since_week                      float64\n",
       "promo2_since_year                      float64\n",
       "promo_interval                          object\n",
       "month_map                               object\n",
       "is_promo                                 int64\n",
       "dtype: object"
      ]
     },
     "execution_count": 13,
     "metadata": {},
     "output_type": "execute_result"
    }
   ],
   "source": [
    "df1.dtypes"
   ]
  },
  {
   "cell_type": "code",
   "execution_count": 14,
   "id": "ec9113ac",
   "metadata": {
    "ExecuteTime": {
     "end_time": "2022-03-03T20:34:07.282163Z",
     "start_time": "2022-03-03T20:34:07.222324Z"
    },
    "hidden": true
   },
   "outputs": [],
   "source": [
    "df1['competition_open_since_month'] = df1['competition_open_since_month'].astype('int64')\n",
    "df1['competition_open_since_year'] = df1['competition_open_since_year'].astype('int64')\n",
    "df1['promo2_since_week'] = df1['promo2_since_week'].astype('int64')\n",
    "df1['promo2_since_year'] = df1['promo2_since_year'].astype('int64')"
   ]
  },
  {
   "cell_type": "code",
   "execution_count": 15,
   "id": "4638b1a9",
   "metadata": {
    "ExecuteTime": {
     "end_time": "2022-03-03T20:34:07.298120Z",
     "start_time": "2022-03-03T20:34:07.284158Z"
    },
    "hidden": true
   },
   "outputs": [
    {
     "data": {
      "text/plain": [
       "store                                    int64\n",
       "day_of_week                              int64\n",
       "date                            datetime64[ns]\n",
       "sales                                    int64\n",
       "customers                                int64\n",
       "open                                     int64\n",
       "promo                                    int64\n",
       "state_holiday                           object\n",
       "school_holiday                           int64\n",
       "store_type                              object\n",
       "assortment                              object\n",
       "competition_distance                   float64\n",
       "competition_open_since_month             int64\n",
       "competition_open_since_year              int64\n",
       "promo2                                   int64\n",
       "promo2_since_week                        int64\n",
       "promo2_since_year                        int64\n",
       "promo_interval                          object\n",
       "month_map                               object\n",
       "is_promo                                 int64\n",
       "dtype: object"
      ]
     },
     "execution_count": 15,
     "metadata": {},
     "output_type": "execute_result"
    }
   ],
   "source": [
    "df1.dtypes"
   ]
  },
  {
   "cell_type": "markdown",
   "id": "88fb79ab",
   "metadata": {
    "hidden": true
   },
   "source": [
    "## 1.7. Descriptive Statistical "
   ]
  },
  {
   "cell_type": "code",
   "execution_count": 16,
   "id": "11b255f5",
   "metadata": {
    "ExecuteTime": {
     "end_time": "2022-03-03T20:34:07.313649Z",
     "start_time": "2022-03-03T20:34:07.300116Z"
    },
    "hidden": true
   },
   "outputs": [],
   "source": [
    "num_attributes = df1.select_dtypes (include=['int64', 'float64'])\n",
    "cat_attributes = df1.select_dtypes (exclude= ['int64', 'float64', 'datetime64[ns]'])"
   ]
  },
  {
   "cell_type": "markdown",
   "id": "a5c8cf09",
   "metadata": {
    "hidden": true
   },
   "source": [
    "## 1.7.1 Numerical Attributes"
   ]
  },
  {
   "cell_type": "code",
   "execution_count": null,
   "id": "d8bb8930",
   "metadata": {
    "ExecuteTime": {
     "start_time": "2022-03-03T20:32:41.966Z"
    },
    "hidden": true
   },
   "outputs": [],
   "source": [
    "#Central Tendency - mean, median\n",
    "ct1 = pd.DataFrame(num_attributes.apply(np.mean)).T\n",
    "ct2 = pd.DataFrame(num_attributes.apply(np.median)).T\n",
    "\n",
    "#Dispersion - std, min, max,range, skew, kurtosis\n",
    "d1 = pd.DataFrame(num_attributes.apply(np.std)).T\n",
    "d2 = pd.DataFrame(num_attributes.apply(min)).T\n",
    "d3 = pd.DataFrame(num_attributes.apply(max)).T\n",
    "d4 = pd.DataFrame(num_attributes.apply(lambda x: x.max()-x.min())).T\n",
    "d5 = pd.DataFrame(num_attributes.apply(lambda x: x.skew() ) ).T\n",
    "d6 = pd.DataFrame(num_attributes.apply(lambda x: x.kurtosis())).T\n",
    "                  \n",
    "#concatenate\n",
    "m = pd.concat( [d2, d3, d4, ct1, ct2, d1, d5, d6] ).T.reset_index()\n",
    "m.columns=['attributes', 'min', 'max', 'range', 'mean', 'median', 'std', 'skew', 'kurtosis']\n",
    "m"
   ]
  },
  {
   "cell_type": "code",
   "execution_count": null,
   "id": "c42319f0",
   "metadata": {
    "ExecuteTime": {
     "start_time": "2022-03-03T20:32:41.969Z"
    },
    "hidden": true
   },
   "outputs": [],
   "source": [
    "sns.displot(df1['sales'])"
   ]
  },
  {
   "cell_type": "markdown",
   "id": "65dc794f",
   "metadata": {
    "ExecuteTime": {
     "end_time": "2022-03-03T19:27:13.851946Z",
     "start_time": "2022-03-03T19:27:13.838119Z"
    },
    "hidden": true
   },
   "source": [
    "## 1.7.2 Categorical Attributes"
   ]
  },
  {
   "cell_type": "code",
   "execution_count": null,
   "id": "62e1039f",
   "metadata": {
    "ExecuteTime": {
     "start_time": "2022-03-03T20:32:41.971Z"
    },
    "hidden": true,
    "scrolled": true
   },
   "outputs": [],
   "source": [
    "cat_attributes.apply(lambda x: x.unique().shape[0])"
   ]
  },
  {
   "cell_type": "code",
   "execution_count": null,
   "id": "158ce9d8",
   "metadata": {
    "ExecuteTime": {
     "start_time": "2022-03-03T20:32:41.974Z"
    },
    "hidden": true
   },
   "outputs": [],
   "source": [
    "aux1 = df1[(df1['state_holiday'] != 0) & (df1['sales'] > 0)]\n",
    "\n",
    "plt.subplot(1, 3, 1)\n",
    "sns.boxplot(x='state_holiday', y='sales', data=aux1)\n",
    "\n",
    "plt.subplot(1, 3, 2)\n",
    "sns.boxplot(x='store_type', y='sales', data=aux1)\n",
    "\n",
    "plt.subplot(1, 3, 3)\n",
    "sns.boxplot(x='assortment', y='sales', data=aux1)"
   ]
  },
  {
   "cell_type": "markdown",
   "id": "f38893f4",
   "metadata": {
    "heading_collapsed": true
   },
   "source": [
    "# 2.0. FEATURE ENGINEERING"
   ]
  },
  {
   "cell_type": "markdown",
   "id": "73153cfa",
   "metadata": {
    "ExecuteTime": {
     "end_time": "2022-03-03T19:27:15.614978Z",
     "start_time": "2022-03-03T19:27:15.601184Z"
    },
    "heading_collapsed": true,
    "hidden": true
   },
   "source": [
    "## 2.1. Mapa mental de Hipóteses"
   ]
  },
  {
   "cell_type": "code",
   "execution_count": null,
   "id": "6e0e5c26",
   "metadata": {
    "ExecuteTime": {
     "start_time": "2022-03-03T20:32:41.977Z"
    },
    "hidden": true
   },
   "outputs": [],
   "source": [
    "Image('img/Daily_Store_Sales.png')"
   ]
  },
  {
   "cell_type": "markdown",
   "id": "425fe5c1",
   "metadata": {
    "hidden": true
   },
   "source": [
    "## 2.2 Criação de Hipóteses"
   ]
  },
  {
   "cell_type": "code",
   "execution_count": null,
   "id": "376d4321",
   "metadata": {
    "ExecuteTime": {
     "start_time": "2022-03-03T20:32:41.980Z"
    },
    "hidden": true
   },
   "outputs": [],
   "source": [
    "df2 = df1.copy()"
   ]
  },
  {
   "cell_type": "markdown",
   "id": "4b3616ca",
   "metadata": {
    "hidden": true
   },
   "source": [
    "### 2.2.1. Hipóteses da Loja"
   ]
  },
  {
   "cell_type": "markdown",
   "id": "8e3fa3bd",
   "metadata": {
    "hidden": true
   },
   "source": [
    "<ol>\n",
    "    <li>Lojas com número maior de funcionários deveriam vender mais; </li>\n",
    "    <li>Lojas com maior capacidade de estoque deveriam vender mais; </li>\n",
    "    <li>Lojas de maior porte deveriam vender mais; </li>\n",
    "    <li>Lojas com maior diversidade de produtos deveriam vender mais; </li>\n",
    "    <li>Lojas com competidores mais próximos deveriam vender menos; </li>\n",
    "    <li>Lojas com competidores de longa data deveriam vender mais; </li>\n",
    "</ol>\n"
   ]
  },
  {
   "cell_type": "markdown",
   "id": "1f7d7eb0",
   "metadata": {
    "hidden": true
   },
   "source": [
    "### 2.2.2. Hipóteses do Produto"
   ]
  },
  {
   "cell_type": "markdown",
   "id": "e932e2d9",
   "metadata": {
    "hidden": true
   },
   "source": [
    "<ol>\n",
    "    <li>Lojas que investem mais em marketng deveriam  vender mais;</li>\n",
    "    <li>Lojas com maior exposição de produtos deveriam vender mais; </li>\n",
    "    <li>Lojas com produtos de preços menores deveriam vender mais; </li>\n",
    "    <li>Lojas com promoções mais agressivas (descontos maiores) deveriam vender mais; </li>\n",
    "    <li>Lojas com mais dias de promoção deveriam vender mais; </li>\n",
    "    <li>Lojas com mais promoções consecutivas deveriam vender mais </li>\n",
    "</ol>"
   ]
  },
  {
   "cell_type": "markdown",
   "id": "9f0bf184",
   "metadata": {
    "hidden": true
   },
   "source": [
    "### 2.2.3. Hipóteses Temporais"
   ]
  },
  {
   "cell_type": "markdown",
   "id": "a4348948",
   "metadata": {
    "hidden": true
   },
   "source": [
    "<ol>\n",
    "    <li>Lojas abertas durante o feriado de natal deveriam vender mais</li>\n",
    "    <li>Lojas deveriam vender mais ao longo dos anos; </li>\n",
    "    <li>Lojas deveriam vender mais no segundo semestre do ano </li>\n",
    "    <li>Lojas deveriam vender mais depois do dia 10 de cada mês </li>\n",
    "    <li>Lojas deveriam vender menos aos finais de semana </li>\n",
    "    <li>Lojas deveriam vender menos durante os feriados escolares </li>\n",
    "</ol>"
   ]
  },
  {
   "cell_type": "markdown",
   "id": "59745ff2",
   "metadata": {
    "hidden": true
   },
   "source": [
    "## 2.3. Lista Final de Hipóteses"
   ]
  },
  {
   "cell_type": "markdown",
   "id": "b93cca0e",
   "metadata": {
    "hidden": true
   },
   "source": [
    "<ol>\n",
    "    <li>Lojas com maior diversidade de produtos deveriam vender mais; </li>\n",
    "    <li>Lojas com competidores mais próximos deveriam vender menos; </li>\n",
    "    <li>Lojas com competidores de longa data deveriam vender mais; </li>\n",
    "    <li>Lojas com produtos de preços menores deveriam vender mais; </li>\n",
    "    <li>Lojas com promoções mais agressivas (descontos maiores) deveriam vender mais; </li>\n",
    "    <li>Lojas com mais dias de promoção deveriam vender mais; </li>\n",
    "    <li>Lojas com mais promoções consecutivas deveriam vender mais </li>\n",
    "    <li>Lojas abertas durante o feriado de natal deveriam vender mais</li>\n",
    "    <li>Lojas deveriam vender mais ao longo dos anos; </li>\n",
    "    <li>Lojas deveriam vender mais no segundo semestre do ano </li>\n",
    "    <li>Lojas deveriam vender mais depois do dia 10 de cada mês </li>\n",
    "    <li>Lojas deveriam vender menos aos finais de semana </li>\n",
    "    <li>Lojas deveriam vender menos durante os feriados escolares </li>\n",
    "</ol>"
   ]
  },
  {
   "cell_type": "markdown",
   "id": "b52fae54",
   "metadata": {
    "hidden": true
   },
   "source": [
    "## 2.3. Feature Engineering"
   ]
  },
  {
   "cell_type": "code",
   "execution_count": null,
   "id": "3fe85e79",
   "metadata": {
    "ExecuteTime": {
     "start_time": "2022-03-03T20:32:41.987Z"
    },
    "hidden": true
   },
   "outputs": [],
   "source": [
    "#year\n",
    "df2['year']= df2['date'].dt.year\n",
    "#month\n",
    "df2['month']= df2['date'].dt.month\n",
    "#day\n",
    "df2['day']= df2['date'].dt.day\n",
    "#week of year\n",
    "df2['week_of_year']= df2['date'].dt.isocalendar().week\n",
    "#year week\n",
    "df2['year_week']= df2['date'].dt.strftime('%Y-%W')\n",
    "\n",
    "#competition since\n",
    "df2['competition_since'] = df2.apply(lambda x: datetime.datetime(year=x['competition_open_since_year'], month=x['competition_open_since_month'], day=1), axis=1)\n",
    "df2['competition_time_month'] = ((df2['date'] - df2['competition_since'])/30).apply(lambda x: x.days).astype(int)\n",
    "\n",
    "#promo since\n",
    "df2['promo_since'] = df2['promo2_since_year'].astype(str) + '-'+ df2['promo2_since_week'].astype(str)\n",
    "df2['promo_since'] = df2['promo_since'].apply(lambda x: datetime.datetime.strptime(x + '-1', '%Y-%W-%w') - datetime.timedelta(days=7))\n",
    "df2['promo_time_week'] = ((df2['date'] - df2['promo_since'])/7).apply(lambda x: x.days).astype(int)\n",
    "\n",
    "#assortment\n",
    "df2['assortment'] = df2['assortment'].apply(lambda x: 'basic' if x=='a' else 'extra' if x=='b' else 'extended')\n",
    "\n",
    "#state holiday\n",
    "df2['state_holiday'] = df2['state_holiday'].apply(lambda x: 'public_holiday' if x=='a' else 'easter_holiday' if x=='b' else 'christmas' if x=='c' else 'regular_day')"
   ]
  },
  {
   "cell_type": "code",
   "execution_count": null,
   "id": "16630bf4",
   "metadata": {
    "ExecuteTime": {
     "start_time": "2022-03-03T20:32:41.990Z"
    },
    "hidden": true
   },
   "outputs": [],
   "source": [
    "df2.head().T"
   ]
  },
  {
   "cell_type": "markdown",
   "id": "3163e045",
   "metadata": {},
   "source": [
    "# 3.0. FILTRAING FEATURES"
   ]
  },
  {
   "cell_type": "code",
   "execution_count": null,
   "id": "4979878f",
   "metadata": {
    "ExecuteTime": {
     "start_time": "2022-03-03T20:32:41.993Z"
    }
   },
   "outputs": [],
   "source": [
    "df3 = df2.copy()"
   ]
  },
  {
   "cell_type": "markdown",
   "id": "42b223a5",
   "metadata": {},
   "source": [
    "### 3.1. Filtragem de linhas"
   ]
  },
  {
   "cell_type": "markdown",
   "id": "58bd38a7",
   "metadata": {},
   "source": [
    "Nessa setor eu vou colocar todas as variáveis que restrigem o negócio:\n",
    "A exemplo: a variável 'open' será só 0 ou 1, 0 no caso de a loja estar fechada.\n",
    "A segunda variável é a de 'sales' em que 0 significa: não houve venda."
   ]
  },
  {
   "cell_type": "code",
   "execution_count": null,
   "id": "eec7ad48",
   "metadata": {
    "ExecuteTime": {
     "start_time": "2022-03-03T20:32:41.995Z"
    }
   },
   "outputs": [],
   "source": [
    "df3 =df3[(df3['open'] !=0) & df3['sales']>0]"
   ]
  },
  {
   "cell_type": "markdown",
   "id": "58411fbc",
   "metadata": {},
   "source": [
    "### 3.2. Seleção de Colunas"
   ]
  },
  {
   "cell_type": "markdown",
   "id": "447a7991",
   "metadata": {},
   "source": [
    "Nessa seleção de colunas eu posso retirar as que não vão mais gerar novas ideias ou insights de negócios. Sendo pq as ideias principais já foram retiradas dos dados contidos nela ou por que não são mais necessários"
   ]
  },
  {
   "cell_type": "code",
   "execution_count": null,
   "id": "0cb13a64",
   "metadata": {
    "ExecuteTime": {
     "start_time": "2022-03-03T20:32:42.000Z"
    }
   },
   "outputs": [],
   "source": [
    "cols_drop = ['customers', 'open', 'promo_interval', 'month_map']\n",
    "df3 = df3.drop(cols_drop, axis =1)"
   ]
  },
  {
   "cell_type": "code",
   "execution_count": null,
   "id": "09ea615e",
   "metadata": {
    "ExecuteTime": {
     "start_time": "2022-03-03T20:32:42.003Z"
    }
   },
   "outputs": [],
   "source": [
    "df3.head()"
   ]
  },
  {
   "cell_type": "markdown",
   "id": "9f0264a4",
   "metadata": {},
   "source": [
    "# 4.0. EXPLORATORY DATA ANALYSIS"
   ]
  },
  {
   "cell_type": "code",
   "execution_count": null,
   "id": "d2c72069",
   "metadata": {
    "ExecuteTime": {
     "start_time": "2022-03-03T20:32:42.005Z"
    }
   },
   "outputs": [],
   "source": [
    "df4=df3.copy()"
   ]
  },
  {
   "cell_type": "markdown",
   "id": "1ab92fd6",
   "metadata": {
    "ExecuteTime": {
     "end_time": "2022-03-03T20:19:50.205918Z",
     "start_time": "2022-03-03T20:19:50.192617Z"
    }
   },
   "source": [
    "## 4.1. Análise Univariada"
   ]
  },
  {
   "cell_type": "markdown",
   "id": "c92e3e43",
   "metadata": {
    "ExecuteTime": {
     "end_time": "2022-03-03T20:19:50.221581Z",
     "start_time": "2022-03-03T20:19:50.207940Z"
    }
   },
   "source": [
    "### 4.1.1. Response Variable"
   ]
  },
  {
   "cell_type": "code",
   "execution_count": null,
   "id": "0e7914f9",
   "metadata": {
    "ExecuteTime": {
     "start_time": "2022-03-03T20:32:42.010Z"
    }
   },
   "outputs": [],
   "source": [
    "sns.histplot(df4['sales'], size=20);"
   ]
  },
  {
   "cell_type": "markdown",
   "id": "7f944c42",
   "metadata": {
    "ExecuteTime": {
     "end_time": "2022-03-03T20:19:50.237428Z",
     "start_time": "2022-03-03T20:19:50.224255Z"
    }
   },
   "source": [
    "### 4.1.2. Numerical Variable"
   ]
  },
  {
   "cell_type": "code",
   "execution_count": null,
   "id": "23380a53",
   "metadata": {
    "ExecuteTime": {
     "start_time": "2022-03-03T20:32:42.013Z"
    }
   },
   "outputs": [],
   "source": [
    "num_attributes.hist();"
   ]
  },
  {
   "cell_type": "markdown",
   "id": "262ed156",
   "metadata": {},
   "source": [
    "### 4.1.3. Categorical Variable"
   ]
  },
  {
   "cell_type": "code",
   "execution_count": null,
   "id": "2228c148",
   "metadata": {
    "ExecuteTime": {
     "start_time": "2022-03-03T20:32:42.016Z"
    }
   },
   "outputs": [],
   "source": [
    "cat_attributes.head()"
   ]
  },
  {
   "cell_type": "code",
   "execution_count": null,
   "id": "c4f8d24e",
   "metadata": {
    "ExecuteTime": {
     "start_time": "2022-03-03T20:32:42.018Z"
    }
   },
   "outputs": [],
   "source": [
    "# state_holiday\n",
    "# store_type\n",
    "# assortment"
   ]
  },
  {
   "cell_type": "code",
   "execution_count": null,
   "id": "fbda9f95",
   "metadata": {},
   "outputs": [],
   "source": []
  }
 ],
 "metadata": {
  "kernelspec": {
   "display_name": "Python 3 (ipykernel)",
   "language": "python",
   "name": "python3"
  },
  "language_info": {
   "codemirror_mode": {
    "name": "ipython",
    "version": 3
   },
   "file_extension": ".py",
   "mimetype": "text/x-python",
   "name": "python",
   "nbconvert_exporter": "python",
   "pygments_lexer": "ipython3",
   "version": "3.9.10"
  }
 },
 "nbformat": 4,
 "nbformat_minor": 5
}
